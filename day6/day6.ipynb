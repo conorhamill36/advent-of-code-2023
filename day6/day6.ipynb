{
 "cells": [
  {
   "cell_type": "markdown",
   "id": "54a8b108-c829-4dec-9d61-a76d45fb27f4",
   "metadata": {},
   "source": [
    "Your toy boat has a starting speed of zero millimeters per millisecond. For each whole millisecond you spend at the beginning of the race holding down the button, the boat's speed increases by one millimeter per millisecond.\r\n",
    "Since the current record for this race is 9 millimeters, there are actually 4 different ways you could win: you could hold the button for 2, 3, 4, or 5 milliseconds at the start of the race.\r\n",
    "To see how much margin of error you have, determine the number of ways you can beat the record in each race; in this example, if you multiply these values together, you get 288 (4 * 8 * 9).\r\n",
    "\r\n",
    "\r\n"
   ]
  },
  {
   "cell_type": "code",
   "execution_count": 19,
   "id": "c3241854-a76b-4acb-a8c8-51520fd7d9fc",
   "metadata": {},
   "outputs": [],
   "source": [
    "import math"
   ]
  },
  {
   "cell_type": "code",
   "execution_count": 1,
   "id": "ef15cb81-0065-42ce-801e-5f1d3e4744fb",
   "metadata": {},
   "outputs": [],
   "source": [
    "# reading in input\n",
    "with open(\"input.txt\") as file:\n",
    "    lines = file.readlines()"
   ]
  },
  {
   "cell_type": "code",
   "execution_count": 4,
   "id": "2fb63747-7c7e-4f88-8638-322f0f8c241e",
   "metadata": {},
   "outputs": [
    {
     "data": {
      "text/plain": [
       "['Time:        61     70     90     66\\n',\n",
       " 'Distance:   643   1184   1362   1041\\n']"
      ]
     },
     "execution_count": 4,
     "metadata": {},
     "output_type": "execute_result"
    }
   ],
   "source": [
    "lines"
   ]
  },
  {
   "cell_type": "code",
   "execution_count": 29,
   "id": "3a639585-2da6-4a56-a839-3b8f31e80402",
   "metadata": {},
   "outputs": [],
   "source": [
    "times = [int(value) for value in filter(lambda x: x.isnumeric(), lines[0].replace(\"Time:\", \"\").strip().split(\" \"))]\n",
    "distances = [int(value) for value in filter(lambda x: x.isnumeric(), lines[1].replace(\"Distance:\", \"\").strip().split(\" \"))]"
   ]
  },
  {
   "cell_type": "code",
   "execution_count": 26,
   "id": "d5526d7f-c46f-4da8-a686-32225e75e98f",
   "metadata": {},
   "outputs": [],
   "source": [
    "def calculate_winning_press_times(time, distance):\n",
    "    # using quadratic formula\n",
    "    upper_limit = (time + math.sqrt(time**2 - 4*distance)) / 2\n",
    "    lower_limit = (time - math.sqrt(time**2 - 4*distance)) / 2\n",
    "\n",
    "    # rounding up and down\n",
    "    lower_limit = math.ceil(lower_limit)\n",
    "    upper_limit = math.floor(upper_limit)\n",
    "\n",
    "    return list(range(lower_limit, upper_limit + 1))"
   ]
  },
  {
   "cell_type": "code",
   "execution_count": 31,
   "id": "69178201-bd77-433e-84e8-f3e504393345",
   "metadata": {},
   "outputs": [
    {
     "name": "stdout",
     "output_type": "stream",
     "text": [
      "61 643\n",
      "[14, 15, 16, 17, 18, 19, 20, 21, 22, 23, 24, 25, 26, 27, 28, 29, 30, 31, 32, 33, 34, 35, 36, 37, 38, 39, 40, 41, 42, 43, 44, 45, 46, 47]\n",
      "70 1184\n",
      "[29, 30, 31, 32, 33, 34, 35, 36, 37, 38, 39, 40, 41]\n",
      "90 1362\n",
      "[20, 21, 22, 23, 24, 25, 26, 27, 28, 29, 30, 31, 32, 33, 34, 35, 36, 37, 38, 39, 40, 41, 42, 43, 44, 45, 46, 47, 48, 49, 50, 51, 52, 53, 54, 55, 56, 57, 58, 59, 60, 61, 62, 63, 64, 65, 66, 67, 68, 69, 70]\n",
      "66 1041\n",
      "[27, 28, 29, 30, 31, 32, 33, 34, 35, 36, 37, 38, 39]\n"
     ]
    },
    {
     "data": {
      "text/plain": [
       "293046"
      ]
     },
     "execution_count": 31,
     "metadata": {},
     "output_type": "execute_result"
    }
   ],
   "source": [
    "total_product = 1\n",
    "for time, distance in zip(times, distances):\n",
    "    print(time, distance)\n",
    "    print(calculate_winning_press_times(time=time, distance=distance))\n",
    "    \n",
    "    total_product *= len(calculate_winning_press_times(time=time, distance=distance))\n",
    "\n",
    "total_product"
   ]
  },
  {
   "cell_type": "markdown",
   "id": "f80d2d51-09ac-4025-9dc4-ad1c05a64b47",
   "metadata": {},
   "source": [
    "Part 2"
   ]
  },
  {
   "cell_type": "code",
   "execution_count": 33,
   "id": "7c7f1a1f-8ec7-4c7d-8b72-c4da1c62f5f5",
   "metadata": {},
   "outputs": [],
   "source": [
    "# reading in times and distances each as a single value\n",
    "\n",
    "times = int(\"\".join(lines[0].replace(\"Time:\", \"\").strip().split(\" \")))\n",
    "distances = int(\"\".join(lines[1].replace(\"Distance:\", \"\").strip().split(\" \")))"
   ]
  },
  {
   "cell_type": "code",
   "execution_count": 35,
   "id": "3854b99b-2c23-42e8-9ab4-bb27798a3643",
   "metadata": {},
   "outputs": [
    {
     "name": "stdout",
     "output_type": "stream",
     "text": [
      "61709066 643118413621041\n"
     ]
    }
   ],
   "source": [
    "print(times, distances)"
   ]
  },
  {
   "cell_type": "code",
   "execution_count": 37,
   "id": "c7a3b71b-93a9-46f8-875b-72eb8c5f37d5",
   "metadata": {},
   "outputs": [
    {
     "data": {
      "text/plain": [
       "35150181"
      ]
     },
     "execution_count": 37,
     "metadata": {},
     "output_type": "execute_result"
    }
   ],
   "source": [
    "len(calculate_winning_press_times(time=times, distance=distances))"
   ]
  }
 ],
 "metadata": {
  "kernelspec": {
   "display_name": "kaggle_env",
   "language": "python",
   "name": "kaggle_env"
  },
  "language_info": {
   "codemirror_mode": {
    "name": "ipython",
    "version": 3
   },
   "file_extension": ".py",
   "mimetype": "text/x-python",
   "name": "python",
   "nbconvert_exporter": "python",
   "pygments_lexer": "ipython3",
   "version": "3.10.13"
  }
 },
 "nbformat": 4,
 "nbformat_minor": 5
}
