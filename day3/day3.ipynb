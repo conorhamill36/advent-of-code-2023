{
 "cells": [
  {
   "cell_type": "markdown",
   "id": "81cffb7e-0951-481c-9bef-d8c55747643e",
   "metadata": {},
   "source": [
    "The engine schematic (your puzzle input) consists of a visual representation of the engine. There are lots of numbers and symbols you don't really understand, but apparently any number adjacent to a symbol, even diagonally, is a \"part number\" and should be included in your sum. (Periods (.) do not count as a symbol.)\r\n"
   ]
  },
  {
   "cell_type": "code",
   "execution_count": 1,
   "id": "9e5bd4cc-9a6c-4b32-bed8-e1d68663c8e9",
   "metadata": {},
   "outputs": [],
   "source": [
    "import numpy as np\n",
    "import re"
   ]
  },
  {
   "cell_type": "code",
   "execution_count": 2,
   "id": "cf583b14-949f-4d07-9d81-bec6bd149b77",
   "metadata": {},
   "outputs": [],
   "source": [
    "with open(\"input.txt\") as file:\n",
    "    lines = file.readlines()"
   ]
  },
  {
   "cell_type": "code",
   "execution_count": 3,
   "id": "a37326c5-a7d8-4345-9ec2-505abda932f6",
   "metadata": {},
   "outputs": [],
   "source": [
    "list_of_lines = []\n",
    "for line in lines:\n",
    "    line_list = []\n",
    "    for char in line.strip():\n",
    "        line_list.append(char)\n",
    "    list_of_lines.append(line_list)"
   ]
  },
  {
   "cell_type": "code",
   "execution_count": 4,
   "id": "05d07ede-fd41-45af-953d-8a8a40fb42b7",
   "metadata": {},
   "outputs": [],
   "source": [
    "array = np.array(list_of_lines)"
   ]
  },
  {
   "cell_type": "code",
   "execution_count": 5,
   "id": "236a7096-725a-4f35-85b7-f51fc8cdc9f2",
   "metadata": {},
   "outputs": [],
   "source": [
    "# possible rules:\n",
    "# if element is number and beside a symbol, then is True\n",
    "# if element is number and beside a True, is True (to capture the other characters)"
   ]
  },
  {
   "cell_type": "code",
   "execution_count": 6,
   "id": "778b7ee9-322b-4f35-9b70-19a3aa7cb71a",
   "metadata": {},
   "outputs": [],
   "source": [
    "width, height = array.shape"
   ]
  },
  {
   "cell_type": "code",
   "execution_count": 7,
   "id": "2ada3be9-d2da-4034-9314-034533b7cbba",
   "metadata": {},
   "outputs": [],
   "source": [
    "def get_neighbour_indexes(i, j, width=140, height=140, only_side_neighbours=False):\n",
    "    neighbours_indexes = []\n",
    "    \n",
    "    # if element is not at left side\n",
    "    is_at_left = (j == 0)\n",
    "    # if element is not at top\n",
    "    is_at_top = (i == 0)\n",
    "    # if element is not at bottom\n",
    "    is_at_bottom = (i == (height - 1))\n",
    "    # if element is not at right\n",
    "    is_at_right = (j == (width - 1))\n",
    "\n",
    "    \n",
    "    if not is_at_left:\n",
    "        neighbours_indexes.append((i, j-1)) # one to the left\n",
    "    if not is_at_right:\n",
    "        neighbours_indexes.append((i, j+1)) # one to the right\n",
    "    \n",
    "    if only_side_neighbours:\n",
    "        return neighbours_indexes\n",
    "    \n",
    "    # these are wrong\n",
    "    if not is_at_bottom and not is_at_left:\n",
    "        neighbours_indexes.append((i+1, j-1)) # bottom left\n",
    "    if not is_at_top and not is_at_left:\n",
    "        neighbours_indexes.append((i-1, j-1)) # top left\n",
    "    if not is_at_top:\n",
    "        neighbours_indexes.append((i-1, j)) # above\n",
    "    if not is_at_bottom:\n",
    "        neighbours_indexes.append((i+1, j)) # below\n",
    "    if not is_at_top and not is_at_right:\n",
    "        neighbours_indexes.append((i-1, j+1)) # top right\n",
    "    if not is_at_right and not is_at_bottom:\n",
    "        neighbours_indexes.append((i+1, j+1)) # bottom right\n",
    "    \n",
    "    return neighbours_indexes"
   ]
  },
  {
   "cell_type": "code",
   "execution_count": 8,
   "id": "4469af4a-3940-403f-ab57-42fcb3af60ab",
   "metadata": {},
   "outputs": [
    {
     "name": "stdout",
     "output_type": "stream",
     "text": [
      "(0, 0)\n",
      "[(0, 1), (1, 0), (1, 1)]\n",
      "[(0, 1)]\n",
      "(139, 0)\n",
      "[(139, 1), (138, 0), (138, 1)]\n",
      "[(139, 1)]\n",
      "(100, 100)\n",
      "[(100, 99), (100, 101), (101, 99), (99, 99), (99, 100), (101, 100), (99, 101), (101, 101)]\n",
      "[(100, 99), (100, 101)]\n",
      "(0, 3)\n",
      "[(0, 2), (0, 4), (1, 2), (1, 3), (1, 4)]\n",
      "[(0, 2), (0, 4)]\n"
     ]
    }
   ],
   "source": [
    "# checking get_neighbours_indexes is working as intended\n",
    "tuple_list = [\n",
    "    (0, 0),\n",
    "    (139, 0),\n",
    "    (100, 100),\n",
    "    (0, 3),\n",
    "]\n",
    "\n",
    "for some_tuple in tuple_list:\n",
    "    print(some_tuple)\n",
    "    i, j = some_tuple\n",
    "    print(get_neighbour_indexes(i, j))\n",
    "    print(get_neighbour_indexes(i, j, only_side_neighbours=True))"
   ]
  },
  {
   "cell_type": "code",
   "execution_count": 9,
   "id": "236e82c5-ec2c-47fe-a8a7-a05d2765a38c",
   "metadata": {},
   "outputs": [
    {
     "name": "stdout",
     "output_type": "stream",
     "text": [
      "a False\n",
      ". False\n",
      "6 False\n",
      "* True\n",
      "+ True\n"
     ]
    }
   ],
   "source": [
    "def is_symbol(input_string):\n",
    "    return input_string != '.' and not input_string.isalnum()\n",
    "\n",
    "# checking is_symbol function\n",
    "for input_string in [\"a\", \".\", \"6\", \"*\", \"+\"]:\n",
    "    print(input_string, is_symbol(input_string))"
   ]
  },
  {
   "cell_type": "code",
   "execution_count": 10,
   "id": "f415ed0b-60c1-4d48-b57c-0f7ebe8dd555",
   "metadata": {},
   "outputs": [],
   "source": [
    "def make_boolean_array(array, width=140, height=140):\n",
    "    boolean_array = np.full((width, height), False)\n",
    "    loop_count = 0\n",
    "    while True:\n",
    "        mean_value = boolean_array.mean()\n",
    "        for i in range(width):\n",
    "            # if i == 139:\n",
    "            #     print(array[i])\n",
    "            for j in range(height):\n",
    "                if not array[i][j].isnumeric():\n",
    "                    continue\n",
    "                neighbour_indexes = get_neighbour_indexes(i, j, width=width, height=height)\n",
    "                # check if any neighbour is a symbol\n",
    "                # print((i, j), neighbour_indexes)\n",
    "                any_neighbour_is_symbol = any(is_symbol(array[k, l]) for (k, l) in neighbour_indexes)\n",
    "                if any_neighbour_is_symbol:\n",
    "                    boolean_array[i, j] = True \n",
    "                \n",
    "                # check is any neighbour is True (i.e. another number that neighbours a symbol)\n",
    "                neighbour_indexes = get_neighbour_indexes(i, j, width, height, only_side_neighbours=True)\n",
    "                # print((i, j), neighbour_indexes)\n",
    "                any_neighbour_is_True = any(boolean_array[k, l] for (k, l) in neighbour_indexes)\n",
    "                if any_neighbour_is_True:\n",
    "                    boolean_array[i, j] = True\n",
    "        loop_count+=1\n",
    "        # print(mean_value, boolean_array.mean(), loop_count)\n",
    "        # print(boolean_array.astype(int))\n",
    "        if boolean_array.mean() == mean_value:\n",
    "            break\n",
    "    return boolean_array"
   ]
  },
  {
   "cell_type": "code",
   "execution_count": 12,
   "id": "89d40fb6-1dea-429b-9e86-3a800892ad0b",
   "metadata": {},
   "outputs": [],
   "source": [
    "def get_mask_of_array(array, boolean_array, width=140, height=140):\n",
    "    numbers_array = np.full((140, 140),'.', dtype=\"<U10\")\n",
    "    for i in range(width):\n",
    "        for j in range(height):\n",
    "            if boolean_array[i][j] == True: # for some reason, is True isn't working\n",
    "                numbers_array[i][j] = array[i][j].copy()\n",
    "    \n",
    "    return numbers_array"
   ]
  },
  {
   "cell_type": "code",
   "execution_count": 11,
   "id": "a59d9a2f-d21c-4069-afaf-a9abd35e4771",
   "metadata": {},
   "outputs": [],
   "source": [
    "boolean_array = make_boolean_array(array=array)"
   ]
  },
  {
   "cell_type": "code",
   "execution_count": 13,
   "id": "6af250e1-1482-44d7-a142-adb6e29e587f",
   "metadata": {},
   "outputs": [],
   "source": [
    "numbers_array = get_mask_of_array(array, boolean_array)"
   ]
  },
  {
   "cell_type": "code",
   "execution_count": 14,
   "id": "42964fc7-7d27-4639-863e-7f43fcbf15d3",
   "metadata": {},
   "outputs": [],
   "source": [
    "list_of_numbers = [''.join(list(row)) for row in numbers_array]\n",
    "\n",
    "# extracting ints from lines\n",
    "list_of_number_values = [re.split(r'\\D+', numbers) for numbers in list_of_numbers]"
   ]
  },
  {
   "cell_type": "code",
   "execution_count": 15,
   "id": "c2f94a5a-d5ca-4109-8689-ad08b6b6c260",
   "metadata": {},
   "outputs": [],
   "source": [
    "total_sum = 0\n",
    "for number_values in list_of_number_values:\n",
    "    list_sum = list(filter(lambda x: x.isnumeric(), number_values))\n",
    "    list_sum = [int(value) for value in list_sum]\n",
    "    list_sum = sum(list_sum)\n",
    "    total_sum += list_sum"
   ]
  },
  {
   "cell_type": "code",
   "execution_count": 16,
   "id": "692798d7-ab14-4588-bd9d-8371caa0a12d",
   "metadata": {},
   "outputs": [
    {
     "data": {
      "text/plain": [
       "514969"
      ]
     },
     "execution_count": 16,
     "metadata": {},
     "output_type": "execute_result"
    }
   ],
   "source": [
    "total_sum"
   ]
  },
  {
   "cell_type": "markdown",
   "id": "ffbe1458-97d0-4c9d-9db4-79493e700fe0",
   "metadata": {},
   "source": [
    "Part 2 - code could be definitely be made a bit more modular"
   ]
  },
  {
   "cell_type": "code",
   "execution_count": 17,
   "id": "905ca40a-4ba6-41f6-9ed9-e2bd121021fb",
   "metadata": {},
   "outputs": [],
   "source": [
    "def int_from_list_of_tuples(array, list_of_tuples):\n",
    "    int_list = ''.join([array[i, j] for i, j in list_of_tuples])\n",
    "    return int(int_list)"
   ]
  },
  {
   "cell_type": "code",
   "execution_count": 18,
   "id": "4c220fea-a845-4f19-99b3-71d335edc51f",
   "metadata": {},
   "outputs": [
    {
     "name": "stdout",
     "output_type": "stream",
     "text": [
      "356 potential gears found\n"
     ]
    },
    {
     "data": {
      "text/plain": [
       "78915902"
      ]
     },
     "execution_count": 18,
     "metadata": {},
     "output_type": "execute_result"
    }
   ],
   "source": [
    "def find_gear_ratio_pairs(array):\n",
    "    gear_ratio_sum = 0\n",
    "    # find indexes of gears\n",
    "    gears_indexes = np.argwhere(array == \"*\")\n",
    "    print(f\"{len(gears_indexes)} potential gears found\")\n",
    "\n",
    "    for gears_indexes_counter, (i, j) in enumerate(gears_indexes):\n",
    "        # find neighbouring numbers\n",
    "        neighbour_indexes = get_neighbour_indexes(i, j)\n",
    "        number_indexes = [(k, l) for (k, l) in neighbour_indexes if array[k][l].isnumeric()]      \n",
    "        \n",
    "        # expand those number indexes to include all digits of the numbers\n",
    "        neighbour_indexes = []\n",
    "        for _ in range(6):\n",
    "            for number_index in number_indexes:\n",
    "                k, l = number_index\n",
    "                neighbour_indexes_new = get_neighbour_indexes(k, l, only_side_neighbours=True)\n",
    "                number_indexes_new = [(k, l) for k, l in neighbour_indexes_new if array[k][l].isnumeric()]\n",
    "                number_indexes.extend(number_indexes_new)\n",
    "                number_indexes = list(set(number_indexes))\n",
    "        number_indexes.sort()\n",
    "        \n",
    "        # find groups of numbers\n",
    "        first_number_indexes = []\n",
    "        first_number_indexes.append(number_indexes[0])\n",
    "        \n",
    "        while True:\n",
    "            # latest member of first set\n",
    "            k, l = first_number_indexes[-1]\n",
    "            if (k, l + 1) in number_indexes:\n",
    "                first_number_indexes.append((k, l + 1))\n",
    "            else:\n",
    "                break\n",
    "        \n",
    "        if len(first_number_indexes) == len(number_indexes):\n",
    "            # * not counted if only one number attached\n",
    "            continue\n",
    "        else:\n",
    "            second_number_indexes = []\n",
    "            second_number_indexes.append(number_indexes[len(first_number_indexes)])\n",
    "            while True:\n",
    "                k, l = second_number_indexes[-1]\n",
    "                if (k, l + 1) in number_indexes:\n",
    "                    second_number_indexes.append((k, l + 1))\n",
    "                else:\n",
    "                    break\n",
    "        \n",
    "        first_num = int_from_list_of_tuples(array, first_number_indexes)\n",
    "        second_num = int_from_list_of_tuples(array, second_number_indexes)\n",
    "        \n",
    "        gear_ratio_sum += (first_num * second_num)\n",
    "    return gear_ratio_sum\n",
    "        \n",
    "find_gear_ratio_pairs(array)"
   ]
  },
  {
   "cell_type": "code",
   "execution_count": null,
   "id": "d9ba6b42-c649-418d-a5c1-9fb3080e62bf",
   "metadata": {},
   "outputs": [],
   "source": []
  }
 ],
 "metadata": {
  "kernelspec": {
   "display_name": "kaggle_env",
   "language": "python",
   "name": "kaggle_env"
  },
  "language_info": {
   "codemirror_mode": {
    "name": "ipython",
    "version": 3
   },
   "file_extension": ".py",
   "mimetype": "text/x-python",
   "name": "python",
   "nbconvert_exporter": "python",
   "pygments_lexer": "ipython3",
   "version": "3.10.13"
  }
 },
 "nbformat": 4,
 "nbformat_minor": 5
}
