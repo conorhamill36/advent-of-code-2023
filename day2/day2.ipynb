{
 "cells": [
  {
   "cell_type": "markdown",
   "id": "978e5b88-36b6-464b-8095-e3b2313f35c3",
   "metadata": {},
   "source": [
    "You play several games and record the information from each game (your puzzle input). Each game is listed with its ID number (like the 11 in Game 11: ...) followed by a semicolon-separated list of subsets of cubes that were revealed from the bag (like 3 red, 5 green, 4 blue).\r\n",
    "\r\n",
    "For example, the record of a few games might look like this:\r\n",
    "\r\n",
    "Game 1: 3 blue, 4 red; 1 red, 2 green, 6 blue; 2 green\r\n",
    "Game 2: 1 blue, 2 green; 3 green, 4 blue, 1 red; 1 green, 1 blue\r\n",
    "Game 3: 8 green, 6 blue, 20 red; 5 blue, 4 red, 13 green; 5 green, 1 red\r\n",
    "Game 4: 1 green, 3 red, 6 blue; 3 green, 6 red; 3 green, 15 blue, 14 red\r\n",
    "Game 5: 6 red, 1 blue, 3 green; 2 blue, 1 red, 2 green\r\n",
    "In game 1, three sets of cubes are revealed from the bag (and then put back again). The first set is 3 blue cubes and 4 red cubes; the second set is 1 red cube, 2 green cubes, and 6 blue cubes; the third set is only 2 green cubes.\r\n",
    "\r\n",
    "The Elf would first like to know which games would have been possible if the bag contained only 12 red cubes, 13 green cubes, and 14 ue cubes?\r\n",
    "\r\n"
   ]
  },
  {
   "cell_type": "code",
   "execution_count": 1,
   "id": "9356abdf-0821-42d5-a0d0-79fcb870d2da",
   "metadata": {},
   "outputs": [],
   "source": [
    "with open(\"input.txt\") as file:\n",
    "    lines = file.readlines()"
   ]
  },
  {
   "cell_type": "code",
   "execution_count": 2,
   "id": "c089b483-f949-4051-81e6-855f97906d39",
   "metadata": {},
   "outputs": [
    {
     "data": {
      "text/plain": [
       "'Game 1: 12 blue; 2 green, 13 blue, 19 red; 13 red, 3 green, 14 blue\\n'"
      ]
     },
     "execution_count": 2,
     "metadata": {},
     "output_type": "execute_result"
    }
   ],
   "source": [
    "lines[0]"
   ]
  },
  {
   "cell_type": "code",
   "execution_count": 50,
   "id": "35627ffa-c642-4a5b-a563-e0d3b3fedaf8",
   "metadata": {},
   "outputs": [
    {
     "data": {
      "text/plain": [
       "[{'blue': 12, 'red': 0, 'green': 0},\n",
       " {'blue': 13, 'red': 19, 'green': 2},\n",
       " {'blue': 14, 'red': 13, 'green': 3}]"
      ]
     },
     "execution_count": 50,
     "metadata": {},
     "output_type": "execute_result"
    }
   ],
   "source": [
    "def create_game_dicts(line):\n",
    "    # create dicts with keys and colours and values as counts\n",
    "\n",
    "    line = line.strip()\n",
    "    _, line = line.split(\":\")\n",
    "    list_game_dicts = []\n",
    "    for game in line.split(\";\"):\n",
    "        # setting game dict to be empty\n",
    "        game_dict = {\n",
    "            \"blue\": 0,\n",
    "            \"red\": 0,\n",
    "            \"green\": 0,\n",
    "        }\n",
    "        # print(game)\n",
    "        for reveal in game.strip().split(\",\"):\n",
    "            # print(reveal)\n",
    "            count, colour = reveal.lstrip().split(\" \")\n",
    "            game_dict[colour] = int(count)\n",
    "        list_game_dicts.append(game_dict)\n",
    "    return list_game_dicts\n",
    "\n",
    "create_game_dicts(lines[0])"
   ]
  },
  {
   "cell_type": "code",
   "execution_count": 51,
   "id": "4e2cd646-81e9-4d19-8739-9e5bf1de982b",
   "metadata": {},
   "outputs": [
    {
     "name": "stdout",
     "output_type": "stream",
     "text": [
      "Game 1: 12 blue; 2 green, 13 blue, 19 red; 13 red, 3 green, 14 blue\n",
      "\n"
     ]
    }
   ],
   "source": [
    "print(lines[0])"
   ]
  },
  {
   "cell_type": "code",
   "execution_count": 52,
   "id": "8e0794c9-9175-420d-abd5-dbd79573957b",
   "metadata": {},
   "outputs": [],
   "source": [
    "GAME_CRITERIA_DICT = {\n",
    "    \"red\": 12,\n",
    "    \"green\": 13,\n",
    "    \"blue\": 14,\n",
    "}"
   ]
  },
  {
   "cell_type": "code",
   "execution_count": 53,
   "id": "2b20d123-0efc-4703-85fb-86d356520552",
   "metadata": {},
   "outputs": [],
   "source": [
    "COLOURS = [\"red\", \"green\", \"blue\"]"
   ]
  },
  {
   "cell_type": "code",
   "execution_count": 61,
   "id": "be32a59a-50f8-4d0a-a1ad-2494776cf8ae",
   "metadata": {},
   "outputs": [],
   "source": [
    "def is_reveal_possible(game_dict, game_criteria_dict=None, colours=None):\n",
    "    # Returns True if reveal was possible\n",
    "    if game_criteria_dict is None:\n",
    "        game_criteria_dict = GAME_CRITERIA_DICT\n",
    "    if colours is None:\n",
    "        colours = COLOURS        \n",
    "    return all((game_dict[colour] <= game_criteria_dict[colour]) for colour in colours)"
   ]
  },
  {
   "cell_type": "code",
   "execution_count": 62,
   "id": "8fa52891-c1bc-4d66-a376-076126f55546",
   "metadata": {},
   "outputs": [],
   "source": [
    "def is_game_possible(list_game_dicts, game_criteria_dict=None):\n",
    "    # Returns True if game was possible\n",
    "    if game_criteria_dict is None:\n",
    "        game_criteria_dict = GAME_CRITERIA_DICT\n",
    "\n",
    "    return all(is_reveal_possible(game_dict, game_criteria_dict) for game_dict in list_game_dicts)"
   ]
  },
  {
   "cell_type": "code",
   "execution_count": 86,
   "id": "9f138d42-5019-4af8-a4d8-b0fec53f0f9b",
   "metadata": {},
   "outputs": [],
   "source": [
    "def get_id_from_line(line):\n",
    "    _, id, *_ = line.split(\" \")\n",
    "    return int(id[:-1])"
   ]
  },
  {
   "cell_type": "code",
   "execution_count": 73,
   "id": "79b4b43c-fbcf-4b7e-abf8-2f90ab69f1da",
   "metadata": {},
   "outputs": [],
   "source": [
    "examples= [\n",
    "    \"Game 1: 3 blue, 4 red; 1 red, 2 green, 6 blue; 2 green\",\n",
    "    \"Game 2: 1 blue, 2 green; 3 green, 4 blue, 1 red; 1 green, 1 blue\",\n",
    "    \"Game 3: 8 green, 6 blue, 20 red; 5 blue, 4 red, 13 green; 5 green, 1 red\",\n",
    "    \"Game 4: 1 green, 3 red, 6 blue; 3 green, 6 red; 3 green, 15 blue, 14 red\",\n",
    "    \"Game 5: 6 red, 1 blue, 3 green; 2 blue, 1 red, 2 green\",\n",
    "]"
   ]
  },
  {
   "cell_type": "code",
   "execution_count": 74,
   "id": "08cb1295-c33b-4d6f-b86e-c79370fb2c4c",
   "metadata": {},
   "outputs": [
    {
     "name": "stdout",
     "output_type": "stream",
     "text": [
      "Game 1: 3 blue, 4 red; 1 red, 2 green, 6 blue; 2 green\n",
      "True\n",
      "Game 2: 1 blue, 2 green; 3 green, 4 blue, 1 red; 1 green, 1 blue\n",
      "True\n",
      "Game 3: 8 green, 6 blue, 20 red; 5 blue, 4 red, 13 green; 5 green, 1 red\n",
      "False\n",
      "Game 4: 1 green, 3 red, 6 blue; 3 green, 6 red; 3 green, 15 blue, 14 red\n",
      "False\n",
      "Game 5: 6 red, 1 blue, 3 green; 2 blue, 1 red, 2 green\n",
      "True\n"
     ]
    }
   ],
   "source": [
    "for example in examples:\n",
    "    print(example)\n",
    "    list_game_dicts = create_game_dicts(example)\n",
    "    print(is_game_possible(list_game_dicts))"
   ]
  },
  {
   "cell_type": "code",
   "execution_count": 88,
   "id": "b90847bc-42d5-4861-b271-b7b5a06c4c94",
   "metadata": {},
   "outputs": [],
   "source": [
    "sum = 0\n",
    "for line in lines:\n",
    "    list_game_dicts = create_game_dicts(line)\n",
    "    if is_game_possible(list_game_dicts):\n",
    "        sum += get_id_from_line(line)"
   ]
  },
  {
   "cell_type": "markdown",
   "id": "72e06ffd-4e21-4f25-9ca3-1dd8bf83dffe",
   "metadata": {},
   "source": [
    "Part 2"
   ]
  },
  {
   "cell_type": "code",
   "execution_count": 93,
   "id": "3dd850f2-04b8-4c09-8526-eb2d5b28ada4",
   "metadata": {},
   "outputs": [],
   "source": [
    "def get_minimum_cubes(list_game_dicts, colours=None):\n",
    "    # gets minimum number of cubes a game could have been played with\n",
    "    if colours is None:\n",
    "        colours = COLOURS\n",
    "    \n",
    "    min_cubes_dict = {colour: 0 for colour in colours}\n",
    "\n",
    "    for game_dict in list_game_dicts:\n",
    "        for colour in colours:\n",
    "            if game_dict[colour] > min_cubes_dict[colour]:\n",
    "                min_cubes_dict[colour] = game_dict[colour]\n",
    "    return min_cubes_dict"
   ]
  },
  {
   "cell_type": "code",
   "execution_count": 95,
   "id": "a199e879-c19f-4f77-bfc1-82f8922919aa",
   "metadata": {},
   "outputs": [],
   "source": [
    "def get_power_set_cubes(cubes_dict):\n",
    "    # calculates the power of a set of cubes\n",
    "    power = 1\n",
    "    for value in cubes_dict.values():\n",
    "        power *= value\n",
    "    return power"
   ]
  },
  {
   "cell_type": "code",
   "execution_count": 97,
   "id": "cced0310-0b69-4705-b27b-0e6a951f35bc",
   "metadata": {},
   "outputs": [
    {
     "name": "stdout",
     "output_type": "stream",
     "text": [
      "[{'blue': 4, 'red': 8, 'green': 4}, {'blue': 10, 'red': 3, 'green': 4}, {'blue': 0, 'red': 4, 'green': 10}, {'blue': 9, 'red': 18, 'green': 2}, {'blue': 2, 'red': 12, 'green': 4}]\n",
      "{'red': 18, 'green': 10, 'blue': 10}\n"
     ]
    },
    {
     "data": {
      "text/plain": [
       "1800"
      ]
     },
     "execution_count": 97,
     "metadata": {},
     "output_type": "execute_result"
    }
   ],
   "source": [
    "# sanity check\n",
    "list_game_dicts = create_game_dicts(line)\n",
    "print(list_game_dicts)\n",
    "min_cubes_dict = get_minimum_cubes(list_game_dicts)\n",
    "print(min_cubes_dict)\n",
    "get_power_set_cubes(min_cubes_dict)"
   ]
  },
  {
   "cell_type": "code",
   "execution_count": 98,
   "id": "5154d8af-a27a-458d-a859-d39316a0aad0",
   "metadata": {},
   "outputs": [],
   "source": [
    "total_power = 0\n",
    "for line in lines:\n",
    "    list_game_dicts = create_game_dicts(line)\n",
    "    min_cubes_dict = get_minimum_cubes(list_game_dicts)\n",
    "    power = get_power_set_cubes(min_cubes_dict)\n",
    "    total_power += power"
   ]
  },
  {
   "cell_type": "code",
   "execution_count": 99,
   "id": "6818724d-1453-4fc4-83ea-ea1cf3066222",
   "metadata": {},
   "outputs": [
    {
     "data": {
      "text/plain": [
       "63307"
      ]
     },
     "execution_count": 99,
     "metadata": {},
     "output_type": "execute_result"
    }
   ],
   "source": [
    "total_power"
   ]
  },
  {
   "cell_type": "code",
   "execution_count": null,
   "id": "8a4078da-170b-4652-b4e2-d40f0d7443c9",
   "metadata": {},
   "outputs": [],
   "source": []
  }
 ],
 "metadata": {
  "kernelspec": {
   "display_name": "Python 3 (ipykernel)",
   "language": "python",
   "name": "python3"
  },
  "language_info": {
   "codemirror_mode": {
    "name": "ipython",
    "version": 3
   },
   "file_extension": ".py",
   "mimetype": "text/x-python",
   "name": "python",
   "nbconvert_exporter": "python",
   "pygments_lexer": "ipython3",
   "version": "3.10.13"
  }
 },
 "nbformat": 4,
 "nbformat_minor": 5
}
