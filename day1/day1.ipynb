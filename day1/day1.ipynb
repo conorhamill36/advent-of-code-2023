{
 "cells": [
  {
   "cell_type": "markdown",
   "id": "3cc373f1-330e-4c16-bf0e-103c45f3ea6e",
   "metadata": {},
   "source": [
    "The newly-improved calibration document consists of lines of text; each line originally contained a specific calibration value that the Elves now need to recover. On each line, the calibration value can be found by combining the first digit and the last digit (in that order) to form a single two-digit number.\r\n",
    "\r\n"
   ]
  },
  {
   "cell_type": "code",
   "execution_count": 1,
   "id": "9e07c565-db5d-4ac4-9e56-b9d34035d9d0",
   "metadata": {},
   "outputs": [],
   "source": [
    "with open(\"input.txt\", \"r\") as file:\n",
    "    lines = file.readlines()"
   ]
  },
  {
   "cell_type": "code",
   "execution_count": 2,
   "id": "feddb1bf-9e3c-4e89-8149-73982d09c85f",
   "metadata": {},
   "outputs": [],
   "source": [
    "NUMS_LIST = [\n",
    "    \"one\", \"two\", \"three\", \"four\", \"five\", \"six\", \"seven\", \"eight\", \"nine\"\n",
    "]\n",
    "WORDS_TO_NUM_DICT = {word: num for word, num  in zip(NUMS_LIST, range(1, 10))}"
   ]
  },
  {
   "cell_type": "code",
   "execution_count": 3,
   "id": "d42828af-fdb0-4387-ae2b-9be18816715e",
   "metadata": {},
   "outputs": [
    {
     "data": {
      "text/plain": [
       "{'one': 1,\n",
       " 'two': 2,\n",
       " 'three': 3,\n",
       " 'four': 4,\n",
       " 'five': 5,\n",
       " 'six': 6,\n",
       " 'seven': 7,\n",
       " 'eight': 8,\n",
       " 'nine': 9}"
      ]
     },
     "execution_count": 3,
     "metadata": {},
     "output_type": "execute_result"
    }
   ],
   "source": [
    "WORDS_TO_NUM_DICT"
   ]
  },
  {
   "cell_type": "code",
   "execution_count": 5,
   "id": "8705a305-ea79-4a30-b77d-c15f62de5eb1",
   "metadata": {},
   "outputs": [],
   "source": [
    "def get_text_nums(line):\n",
    "    numbers = []\n",
    "    indexes = []\n",
    "    \n",
    "    for num in NUMS_LIST:\n",
    "        # need to iterate through all the substrings in the string\n",
    "        # print(num)\n",
    "        for i in range(len(line)):\n",
    "            # print(i)\n",
    "            substring = line[i:]\n",
    "            # print(substring)\n",
    "            j = substring.find(num)\n",
    "            if j == -1:\n",
    "                break\n",
    "            indexes.append(j + i)\n",
    "            numbers.append(num)\n",
    "    zipped = set(zip(numbers, indexes))\n",
    "    \n",
    "    # print(set(zipped))\n",
    "    numbers = [zipped_element[0] for zipped_element in zipped]\n",
    "    indexes = [zipped_element[1] for zipped_element in zipped]\n",
    "\n",
    "    return numbers, indexes"
   ]
  },
  {
   "cell_type": "code",
   "execution_count": 6,
   "id": "57a36ad8-55ea-4daf-9ae1-9e45118e7414",
   "metadata": {},
   "outputs": [],
   "source": [
    "def get_numeric_nums(line):\n",
    "        numbers = []\n",
    "        indexes = []\n",
    "        for i, character in enumerate(line):\n",
    "            if character.isnumeric():\n",
    "               numbers.append(character)\n",
    "               indexes.append(i)\n",
    "        return numbers, indexes"
   ]
  },
  {
   "cell_type": "code",
   "execution_count": 7,
   "id": "35e9b6c7-2b01-40c2-8420-a637bb336952",
   "metadata": {},
   "outputs": [],
   "source": [
    "def get_calibration_num(line):\n",
    "    line.strip()\n",
    "    numeric_numbers, numeric_indexes = get_numeric_nums(line)\n",
    "    word_numbers, word_indexes = get_text_nums(line)\n",
    "    \n",
    "    # combine numeric and word numbers\n",
    "    all_indexes = []\n",
    "    all_indexes.extend(numeric_indexes)\n",
    "    all_indexes.extend(word_indexes)\n",
    "\n",
    "    all_numbers = []\n",
    "    all_numbers.extend(numeric_numbers)\n",
    "    all_numbers.extend(word_numbers)\n",
    "\n",
    "    # convert word numbers to ints\n",
    "    all_numbers = [WORDS_TO_NUM_DICT[number] if number in WORDS_TO_NUM_DICT.keys() else int(number) for number in all_numbers]\n",
    "    zipped = list(zip(all_indexes, all_numbers))\n",
    "    zipped.sort(key = lambda x: x[0])\n",
    "\n",
    "    final_numbers = [some_tuple[1] for some_tuple in zipped]\n",
    "    if len(final_numbers) > 1:\n",
    "        first_num, *_, last_num = final_numbers\n",
    "    else:\n",
    "        first_num = final_numbers[0]\n",
    "        last_num = final_numbers[0]\n",
    "    final_number = int(\n",
    "        \"\".join([str(first_num), str(last_num)])\n",
    "    )\n",
    "    \n",
    "    return final_number"
   ]
  },
  {
   "cell_type": "code",
   "execution_count": 8,
   "id": "063faf2a-b569-450d-a3a5-e38e52ffe8bd",
   "metadata": {},
   "outputs": [],
   "source": [
    "# checking against examples\n",
    "example_lines = [\n",
    "    \"two1nine\",\n",
    "    \"eightwothree\",\n",
    "    \"abcone2threexyz\",\n",
    "    \"xtwone3four\",\n",
    "    \"4nineeightseven2\",\n",
    "    \"zoneight234\",\n",
    "    \"7pqrstsixteen\",\n",
    "]"
   ]
  },
  {
   "cell_type": "code",
   "execution_count": 9,
   "id": "ec6b06b6-1e63-45c9-9893-e3949494de7e",
   "metadata": {},
   "outputs": [
    {
     "name": "stdout",
     "output_type": "stream",
     "text": [
      "29\n",
      "83\n",
      "13\n",
      "24\n",
      "42\n",
      "14\n",
      "76\n"
     ]
    }
   ],
   "source": [
    "for line in example_lines:\n",
    "    print(get_calibration_num(line))"
   ]
  },
  {
   "cell_type": "code",
   "execution_count": 10,
   "id": "ab1761c5-1034-42a6-b2c5-5e2d51c2f076",
   "metadata": {},
   "outputs": [],
   "source": [
    "# iterating over each line\n",
    "sum_numbers = sum(get_calibration_num(line) for line in lines)"
   ]
  },
  {
   "cell_type": "code",
   "execution_count": 11,
   "id": "88bb0a2a-d1c5-4096-b824-7d862bf99eda",
   "metadata": {},
   "outputs": [
    {
     "data": {
      "text/plain": [
       "53592"
      ]
     },
     "execution_count": 11,
     "metadata": {},
     "output_type": "execute_result"
    }
   ],
   "source": [
    "sum_numbers"
   ]
  },
  {
   "cell_type": "code",
   "execution_count": null,
   "id": "f89111f5-8f40-499d-b45e-e6ec0502757e",
   "metadata": {},
   "outputs": [],
   "source": []
  }
 ],
 "metadata": {
  "kernelspec": {
   "display_name": "Python 3 (ipykernel)",
   "language": "python",
   "name": "python3"
  },
  "language_info": {
   "codemirror_mode": {
    "name": "ipython",
    "version": 3
   },
   "file_extension": ".py",
   "mimetype": "text/x-python",
   "name": "python",
   "nbconvert_exporter": "python",
   "pygments_lexer": "ipython3",
   "version": "3.10.13"
  }
 },
 "nbformat": 4,
 "nbformat_minor": 5
}
