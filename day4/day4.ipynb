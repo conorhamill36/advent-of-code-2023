{
 "cells": [
  {
   "cell_type": "markdown",
   "id": "f0f43dcb-6caf-4d1b-a63e-60e53cb1542e",
   "metadata": {},
   "source": [
    "The Elf leads you over to the pile of colorful cards. There, you discover dozens of scratchcards, all with their opaque covering already scratched off. Picking one up, it looks like each card has two lists of numbers separated by a vertical bar (|): a list of winning numbers and then a list of numbers you have. You organize the information into a table (your puzzle input).\r\n",
    "\r\n",
    "As far as the Elf has been able to figure out, you have to figure out which of the numbers you have appear in the list of winning numbers. The first match makes the card worth one point and each match after the first doubles the point value of that card."
   ]
  },
  {
   "cell_type": "markdown",
   "id": "05616d42-974d-4b56-aea2-5b682c2aa704",
   "metadata": {},
   "source": [
    "Part 1\n",
    "\n",
    "Take a seat in the large pile of colorful cards. How many points are they worth in total?\r\n"
   ]
  },
  {
   "cell_type": "code",
   "execution_count": 1,
   "id": "924f99f5-4f1b-4484-bf07-5ab8c38a56c8",
   "metadata": {},
   "outputs": [],
   "source": [
    "# reading in data\n",
    "with open(\"input.txt\") as file:\n",
    "    lines = file.readlines()"
   ]
  },
  {
   "cell_type": "code",
   "execution_count": 2,
   "id": "ff492a24-36fb-4893-a590-19fe0d424660",
   "metadata": {},
   "outputs": [
    {
     "data": {
      "text/plain": [
       "8"
      ]
     },
     "execution_count": 2,
     "metadata": {},
     "output_type": "execute_result"
    }
   ],
   "source": [
    "2**(4 - 1)"
   ]
  },
  {
   "cell_type": "code",
   "execution_count": 3,
   "id": "607ba8a0-19dc-4ed5-b9ab-45cd76ad88c0",
   "metadata": {},
   "outputs": [],
   "source": [
    "class ScratchCard:\n",
    "    def __init__(self, line):\n",
    "        # parse line and save attributes\n",
    "        _, line = line.strip().split(\":\")\n",
    "        winning_numbers, your_numbers = line.split(\"|\")\n",
    "        winning_numbers, your_numbers = winning_numbers.split(\" \"), your_numbers.split(\" \")\n",
    "        winning_numbers = [int(num) for num in winning_numbers if num.isnumeric()] \n",
    "        your_numbers = [int(num) for num in your_numbers if num.isnumeric()] \n",
    "\n",
    "        self.winning_numbers = winning_numbers\n",
    "        self.your_numbers = your_numbers\n",
    "        \n",
    "    @property\n",
    "    def card_points(self):\n",
    "        # calculate how many points the scratch card is worth\n",
    "        len_points = self.num_matching_nums\n",
    "        if len_points == 0:\n",
    "            return 0\n",
    "        return 2**(len_points - 1)\n",
    "\n",
    "    @property\n",
    "    def num_matching_nums(self):\n",
    "        return len([your_number for your_number in self.your_numbers if your_number in self.winning_numbers])\n",
    " "
   ]
  },
  {
   "cell_type": "code",
   "execution_count": 4,
   "id": "aeba5a1b-e734-4667-8c18-887e07854511",
   "metadata": {},
   "outputs": [],
   "source": [
    "sum_points = 0\n",
    "for line in lines:\n",
    "    scratchcard = ScratchCard(line)\n",
    "    sum_points += scratchcard.card_points"
   ]
  },
  {
   "cell_type": "code",
   "execution_count": 5,
   "id": "ab82f383-4ee7-4875-a9a4-320ef0c60973",
   "metadata": {},
   "outputs": [
    {
     "data": {
      "text/plain": [
       "27454"
      ]
     },
     "execution_count": 5,
     "metadata": {},
     "output_type": "execute_result"
    }
   ],
   "source": [
    "sum_points"
   ]
  },
  {
   "cell_type": "markdown",
   "id": "703f6385-be1e-41ea-8f86-009691ee9d41",
   "metadata": {},
   "source": [
    "Part 2"
   ]
  },
  {
   "cell_type": "code",
   "execution_count": 6,
   "id": "2c2c9bb4-6d5a-4618-ab42-22ca830966d3",
   "metadata": {},
   "outputs": [
    {
     "name": "stdout",
     "output_type": "stream",
     "text": [
      "6857330\n"
     ]
    }
   ],
   "source": [
    "# dict of number of cards for every card\n",
    "card_counting_dict = {key: 1 for key in range(1, len(lines) + 1)}\n",
    "\n",
    "# iterate over all the cards and build up the \"deck\"\n",
    "for card_no, line in enumerate(lines, start=1):\n",
    "    scratchcard = ScratchCard(line)\n",
    "\n",
    "    # num matching nums is how far away cards will increase\n",
    "    num_matching_nums = scratchcard.num_matching_nums\n",
    "    \n",
    "    # number of cards in the \"deck\" is how many more cards you get\n",
    "    for further_card_no in range(card_no+1, card_no + num_matching_nums + 1):\n",
    "        # increase number of cards in the dict\n",
    "        card_counting_dict[further_card_no] += card_counting_dict[card_no]\n",
    "\n",
    "print(sum(card_counting_dict.values()))"
   ]
  },
  {
   "cell_type": "code",
   "execution_count": null,
   "id": "190b78c4-d7ad-4929-ba24-30790bd5975c",
   "metadata": {},
   "outputs": [],
   "source": []
  }
 ],
 "metadata": {
  "kernelspec": {
   "display_name": "kaggle_env",
   "language": "python",
   "name": "kaggle_env"
  },
  "language_info": {
   "codemirror_mode": {
    "name": "ipython",
    "version": 3
   },
   "file_extension": ".py",
   "mimetype": "text/x-python",
   "name": "python",
   "nbconvert_exporter": "python",
   "pygments_lexer": "ipython3",
   "version": "3.10.13"
  }
 },
 "nbformat": 4,
 "nbformat_minor": 5
}
