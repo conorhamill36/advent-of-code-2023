{
 "cells": [
  {
   "cell_type": "markdown",
   "id": "156ccc57-1334-4193-a6da-12932ce3aa30",
   "metadata": {},
   "source": [
    "Starting with AAA, you need to look up the next element based on the next left/right instruction in your input. In this example, start with AAA and go right (R) by choosing the right element of AAA, CCC. Then, L means to choose the left element of CCC, ZZZ. By following the left/right instructions, you reach ZZZ in 2 steps.\r\n",
    "Of course, you might not find ZZZ right away. If you run out of left/right instructions, repeat the whole sequence of instructions as necessary: RL really means RLRLRLRLRLRLRLRL... and so on. For example, here is a situation that takes 6 steps to reach ZZZ:\r\n",
    "Starting at AAA, follow the left/right instructions. How many steps are required to reach ZZZ?\r\n",
    "\r\n",
    "\r\n"
   ]
  },
  {
   "cell_type": "code",
   "execution_count": 1,
   "id": "a74f57d6-075c-4a80-9736-4cc6b631a8d8",
   "metadata": {},
   "outputs": [],
   "source": [
    "import string\n",
    "\n",
    "from itertools import cycle"
   ]
  },
  {
   "cell_type": "code",
   "execution_count": 2,
   "id": "53cfa35b-ac5f-408c-b87c-732491faffb9",
   "metadata": {},
   "outputs": [],
   "source": [
    "with open(\"input.txt\") as file:\n",
    "    lines = file.readlines()"
   ]
  },
  {
   "cell_type": "code",
   "execution_count": 3,
   "id": "b2537820-87f5-407b-82f9-83224ac10791",
   "metadata": {},
   "outputs": [],
   "source": [
    "# with open(\"example_input.txt\") as file:\n",
    "#     lines = file.readlines()"
   ]
  },
  {
   "cell_type": "code",
   "execution_count": 4,
   "id": "572d0cea-53b7-4a00-9195-f8b0c21a0c41",
   "metadata": {},
   "outputs": [],
   "source": [
    "# with open(\"example_input_part_2.txt\") as file:\n",
    "#     lines = file.readlines()"
   ]
  },
  {
   "cell_type": "code",
   "execution_count": 5,
   "id": "97411a9f-3733-44f5-890b-d2de98d0d786",
   "metadata": {},
   "outputs": [],
   "source": [
    "instructions_sequence = lines[0].strip()"
   ]
  },
  {
   "cell_type": "code",
   "execution_count": 6,
   "id": "7107a1c3-fd1d-4898-843d-671ec2b4dd4f",
   "metadata": {},
   "outputs": [],
   "source": [
    "# creating dict of nodes\n",
    "nodes_dict = {}\n",
    "for line in lines[2:]:\n",
    "    node_line = line.strip()\n",
    "    node_name, *_ = node_line.split(\" \")\n",
    "    \n",
    "    line_split = line.translate(str.maketrans('', '', string.punctuation)).split(\" \")\n",
    "    \n",
    "    *_, left, right = line_split\n",
    "    left, right = left.strip(), right.strip()\n",
    "\n",
    "    nodes_dict[node_name] = (left, right)"
   ]
  },
  {
   "cell_type": "code",
   "execution_count": 7,
   "id": "7c1b8212-a079-4790-b0e0-50279dd90c5c",
   "metadata": {},
   "outputs": [
    {
     "name": "stdout",
     "output_type": "stream",
     "text": [
      "LLRLRRRLLRRRLRRLRRLRLRRRLRRRLRLLRLRRLRRLRLLRRLRRRLRRLRLRLRLRRRLRRLRLLLRRLRRRLLLRLRRRLRRRLLRRLRRRLRLRRRLLLRRLLRRLRRLLLRRRLRRRLRRRLRRLLRLRLRLRRRLRLRLRRLRRLRLRRRLRRLRRRLRRRLLLRLRRLRRLRLLRRLLRRLRRLLRLRRLRRLRLRLLLRLLRRLRRLRRRLLRRLLRRRLRRLRRRLRRRLLRRRLRRRLLRRRLRLRLLRRLRLRLRRRR\n",
      "0\n",
      "AAA ('TPN', 'SHQ') L TPN\n",
      "16531\n"
     ]
    }
   ],
   "source": [
    "# iterate through each direction in directions and traverse the dictionary elements\n",
    "print(instructions_sequence)\n",
    "part_cycle = cycle(instructions_sequence)\n",
    "\n",
    "current_node = 'AAA'\n",
    "step_counter = 0\n",
    "\n",
    "while True:\n",
    "    direction = next(part_cycle)\n",
    "\n",
    "    if direction == 'L':\n",
    "        next_node = nodes_dict[current_node][0] \n",
    "    if direction == 'R':\n",
    "        next_node = nodes_dict[current_node][1] \n",
    "\n",
    "    if step_counter % 100_000 == 0:\n",
    "        print(step_counter)\n",
    "        print(\n",
    "            current_node, \n",
    "            nodes_dict[current_node],\n",
    "            direction,\n",
    "            next_node\n",
    "        )\n",
    "\n",
    "    current_node = next_node\n",
    "    step_counter += 1\n",
    "\n",
    "    if next_node == 'ZZZ':\n",
    "        break\n",
    "\n",
    "print(step_counter)"
   ]
  },
  {
   "cell_type": "markdown",
   "id": "4a77e09a-ba7b-4900-9fe1-d6233a9f000d",
   "metadata": {},
   "source": [
    "Part 2"
   ]
  },
  {
   "cell_type": "code",
   "execution_count": 8,
   "id": "257f4b87-ffff-412c-9b86-5daaaf3f0be6",
   "metadata": {},
   "outputs": [],
   "source": [
    "# getting all nodes that end in A\n",
    "nodes_ending_with_A = [node for node in nodes_dict.keys() if node[2] == 'A']"
   ]
  },
  {
   "cell_type": "code",
   "execution_count": 9,
   "id": "2cd09018-6b2c-48d7-90bb-e84822daabe3",
   "metadata": {},
   "outputs": [
    {
     "name": "stdout",
     "output_type": "stream",
     "text": [
      "LLRLRRRLLRRRLRRLRRLRLRRRLRRRLRLLRLRRLRRLRLLRRLRRRLRRLRLRLRLRRRLRRLRLLLRRLRRRLLLRLRRRLRRRLLRRLRRRLRLRRRLLLRRLLRRLRRLLLRRRLRRRLRRRLRRLLRLRLRLRRRLRLRLRRLRRLRLRRRLRRLRRRLRRRLLLRLRRLRRLRLLRRLLRRLRRLLRLRRLRRLRLRLLLRLLRRLRRLRRRLLRRLLRRRLRRLRRRLRRRLLRRRLRRRLLRRRLRLRLLRRLRLRLRRRR\n",
      "0\n",
      "['MLA', 'BQA', 'MJA', 'AAA', 'TGA', 'BJA'] L ['VNL', 'VHX', 'CMV', 'TPN', 'RRG', 'XCH']\n",
      "[19241, 18157, 19783, 16531, 21409, 14363]\n"
     ]
    }
   ],
   "source": [
    "# iterate through each direction in directions and traverse the dictionary elements\n",
    "# each path is on a loop, so need to find how long before each of then reaches a Z\n",
    "print(instructions_sequence)\n",
    "part_cycle = cycle(instructions_sequence)\n",
    "\n",
    "current_nodes = nodes_ending_with_A\n",
    "step_counter = 0\n",
    "\n",
    "lowest_z_steps = [0 for _ in range(len(nodes_ending_with_A))]\n",
    "\n",
    "while True:\n",
    "    direction = next(part_cycle)\n",
    "\n",
    "    if direction == 'L':\n",
    "        next_nodes = [nodes_dict[current_node][0] for current_node in current_nodes] \n",
    "    if direction == 'R':\n",
    "        next_nodes = [nodes_dict[current_node][1] for current_node in current_nodes] \n",
    "    \n",
    "    if step_counter % 100_000_000 == 0:\n",
    "        print(step_counter)\n",
    "        print(\n",
    "            current_nodes, \n",
    "            # nodes_dict[current_node],\n",
    "            direction,\n",
    "            next_nodes\n",
    "        )\n",
    "\n",
    "    current_nodes = next_nodes\n",
    "    step_counter += 1\n",
    "    \n",
    "    if any([next_node[2] == 'Z' for next_node in next_nodes]):\n",
    "        for i, next_node in enumerate(next_nodes):\n",
    "            if next_node[2] == 'Z' and lowest_z_steps[i] == 0:\n",
    "                lowest_z_steps[i] = step_counter\n",
    "\n",
    "    if all([lowest_z > 0 for lowest_z in lowest_z_steps]):\n",
    "        break\n",
    "print(lowest_z_steps)"
   ]
  },
  {
   "cell_type": "code",
   "execution_count": 10,
   "id": "168a25f0-1207-478d-8b13-f3aacad4ef4b",
   "metadata": {},
   "outputs": [],
   "source": [
    "import numpy as np"
   ]
  },
  {
   "cell_type": "code",
   "execution_count": 11,
   "id": "0859d23c-c886-4a32-b6a0-49fc9b0e62c3",
   "metadata": {},
   "outputs": [
    {
     "data": {
      "text/plain": [
       "24035773251517"
      ]
     },
     "execution_count": 11,
     "metadata": {},
     "output_type": "execute_result"
    }
   ],
   "source": [
    "# getting lowest common multiple of paths to z\n",
    "np.lcm.reduce(lowest_z_steps)"
   ]
  },
  {
   "cell_type": "code",
   "execution_count": null,
   "id": "9553e2a9-e747-416f-955e-633070ad484e",
   "metadata": {},
   "outputs": [],
   "source": []
  }
 ],
 "metadata": {
  "kernelspec": {
   "display_name": "kaggle_env",
   "language": "python",
   "name": "kaggle_env"
  },
  "language_info": {
   "codemirror_mode": {
    "name": "ipython",
    "version": 3
   },
   "file_extension": ".py",
   "mimetype": "text/x-python",
   "name": "python",
   "nbconvert_exporter": "python",
   "pygments_lexer": "ipython3",
   "version": "3.10.13"
  }
 },
 "nbformat": 4,
 "nbformat_minor": 5
}
